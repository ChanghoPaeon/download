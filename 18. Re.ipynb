{
 "cells": [
  {
   "cell_type": "code",
   "execution_count": 1,
   "metadata": {
    "collapsed": true
   },
   "outputs": [],
   "source": [
    "import re"
   ]
  },
  {
   "cell_type": "code",
   "execution_count": 2,
   "metadata": {
    "collapsed": true
   },
   "outputs": [],
   "source": [
    "str = '이사원,오대리,구과장,육차장,정부장'"
   ]
  },
  {
   "cell_type": "code",
   "execution_count": 3,
   "metadata": {},
   "outputs": [
    {
     "data": {
      "text/plain": [
       "<_sre.SRE_Match object; span=(0, 3), match='이사원'>"
      ]
     },
     "execution_count": 3,
     "metadata": {},
     "output_type": "execute_result"
    }
   ],
   "source": [
    "re.search('이사원', str)     # 문자열이 처음 나오는 위치값 (0,3)을 반환"
   ]
  },
  {
   "cell_type": "code",
   "execution_count": 4,
   "metadata": {
    "collapsed": true
   },
   "outputs": [],
   "source": [
    "re.search('장대리', str)     # 문자열이 처음 나오는 위치값 (5,8)을 반환"
   ]
  },
  {
   "cell_type": "code",
   "execution_count": 5,
   "metadata": {},
   "outputs": [
    {
     "data": {
      "text/plain": [
       "<_sre.SRE_Match object; span=(0, 1), match='이'>"
      ]
     },
     "execution_count": 5,
     "metadata": {},
     "output_type": "execute_result"
    }
   ],
   "source": [
    "re.match('이', str)     # str이 '이'로 시작되어 위치값 (0,3)를 반환"
   ]
  },
  {
   "cell_type": "code",
   "execution_count": 6,
   "metadata": {
    "collapsed": true
   },
   "outputs": [],
   "source": [
    "re.match('장', str)     # str은 '오'로 시작되지 않아 반환값이 없음"
   ]
  },
  {
   "cell_type": "code",
   "execution_count": 7,
   "metadata": {},
   "outputs": [
    {
     "data": {
      "text/plain": [
       "['장', '장', '장']"
      ]
     },
     "execution_count": 7,
     "metadata": {},
     "output_type": "execute_result"
    }
   ],
   "source": [
    "re.findall('장', str)"
   ]
  },
  {
   "cell_type": "code",
   "execution_count": 8,
   "metadata": {},
   "outputs": [
    {
     "data": {
      "text/plain": [
       "['이사원', '오대리', '구과장', '육차장', '정부장']"
      ]
     },
     "execution_count": 8,
     "metadata": {},
     "output_type": "execute_result"
    }
   ],
   "source": [
    "words = re.split(',', str)     # .을 기준으로 문자열 분리해서 words 리스트에 담기\n",
    "words"
   ]
  },
  {
   "cell_type": "code",
   "execution_count": 9,
   "metadata": {},
   "outputs": [
    {
     "data": {
      "text/plain": [
       "'오대리'"
      ]
     },
     "execution_count": 9,
     "metadata": {},
     "output_type": "execute_result"
    }
   ],
   "source": [
    "words[1]"
   ]
  },
  {
   "cell_type": "code",
   "execution_count": 10,
   "metadata": {},
   "outputs": [
    {
     "name": "stdout",
     "output_type": "stream",
     "text": [
      "구과장\n",
      "육차장\n",
      "정부장\n"
     ]
    }
   ],
   "source": [
    "for w in words:\n",
    "    if re.search('장', w):     # 장이 들어가는 멤버만 표시\n",
    "        print(w)"
   ]
  },
  {
   "cell_type": "code",
   "execution_count": 11,
   "metadata": {},
   "outputs": [
    {
     "name": "stdout",
     "output_type": "stream",
     "text": [
      "구과장\n",
      "육차장\n",
      "정부장\n"
     ]
    }
   ],
   "source": [
    "for w in words:\n",
    "    if re.search('.+장', w):     # 장이 들어가는 멤버만 표시\n",
    "        print(w)"
   ]
  },
  {
   "cell_type": "code",
   "execution_count": 12,
   "metadata": {},
   "outputs": [
    {
     "data": {
      "text/plain": [
       "'2사원,5대리,9과장,6차장,정부장'"
      ]
     },
     "execution_count": 12,
     "metadata": {},
     "output_type": "execute_result"
    }
   ],
   "source": [
    "str = re.sub('구', '9', str)     # '구'를 숫자로 변환\n",
    "str = re.sub('오', '5', str)     # '오'를 숫자로 변환\n",
    "str = re.sub('이', '2', str)     # '이'를 숫자로 변환\n",
    "str = re.sub('육', '6', str)     # '이'를 숫자로 변환\n",
    "str"
   ]
  },
  {
   "cell_type": "code",
   "execution_count": 13,
   "metadata": {},
   "outputs": [
    {
     "data": {
      "text/plain": [
       "[]"
      ]
     },
     "execution_count": 13,
     "metadata": {},
     "output_type": "execute_result"
    }
   ],
   "source": [
    "re.findall('0123456789', str)"
   ]
  },
  {
   "cell_type": "code",
   "execution_count": 14,
   "metadata": {},
   "outputs": [
    {
     "data": {
      "text/plain": [
       "['2', '5', '9', '6']"
      ]
     },
     "execution_count": 14,
     "metadata": {},
     "output_type": "execute_result"
    }
   ],
   "source": [
    "re.findall('[0123456789]', str)"
   ]
  },
  {
   "cell_type": "code",
   "execution_count": 15,
   "metadata": {},
   "outputs": [
    {
     "data": {
      "text/plain": [
       "['2', '5', '9', '6']"
      ]
     },
     "execution_count": 15,
     "metadata": {},
     "output_type": "execute_result"
    }
   ],
   "source": [
    "re.findall('0|1|2|3|4|5|6|7|8|9', str)"
   ]
  },
  {
   "cell_type": "code",
   "execution_count": 16,
   "metadata": {},
   "outputs": [
    {
     "data": {
      "text/plain": [
       "['2', '5', '9', '6']"
      ]
     },
     "execution_count": 16,
     "metadata": {},
     "output_type": "execute_result"
    }
   ],
   "source": [
    "re.findall('[0-9]', str)"
   ]
  },
  {
   "cell_type": "code",
   "execution_count": 17,
   "metadata": {},
   "outputs": [
    {
     "data": {
      "text/plain": [
       "['과장', '차장', '부장']"
      ]
     },
     "execution_count": 17,
     "metadata": {},
     "output_type": "execute_result"
    }
   ],
   "source": [
    "re.findall('과장|차장|부장', str)"
   ]
  },
  {
   "cell_type": "code",
   "execution_count": 18,
   "metadata": {},
   "outputs": [
    {
     "data": {
      "text/plain": [
       "['과', '장', '차', '장', '부', '장']"
      ]
     },
     "execution_count": 18,
     "metadata": {},
     "output_type": "execute_result"
    }
   ],
   "source": [
    "re.findall('[과장|차장|부장]', str)"
   ]
  },
  {
   "cell_type": "code",
   "execution_count": 19,
   "metadata": {},
   "outputs": [
    {
     "data": {
      "text/plain": [
       "['과', '장', '차', '장', '부', '장']"
      ]
     },
     "execution_count": 19,
     "metadata": {},
     "output_type": "execute_result"
    }
   ],
   "source": [
    "re.findall('[과차부장]', str)"
   ]
  },
  {
   "cell_type": "code",
   "execution_count": 20,
   "metadata": {},
   "outputs": [
    {
     "data": {
      "text/plain": [
       "['2사원', '5대리', '9과장', '6차장', '정부장']"
      ]
     },
     "execution_count": 20,
     "metadata": {},
     "output_type": "execute_result"
    }
   ],
   "source": [
    "nums = re.split(',', str)     # .을 기준으로 문자열 분리해서 words 리스트에 담기\n",
    "nums"
   ]
  },
  {
   "cell_type": "code",
   "execution_count": 21,
   "metadata": {},
   "outputs": [
    {
     "name": "stdout",
     "output_type": "stream",
     "text": [
      "2사원\n",
      "5대리\n",
      "9과장\n",
      "6차장\n"
     ]
    }
   ],
   "source": [
    "for n in nums:\n",
    "    if re.search('[0-9]', n):     # 숫자가 포함된 직급만 표시\n",
    "        print(n)"
   ]
  },
  {
   "cell_type": "code",
   "execution_count": 22,
   "metadata": {},
   "outputs": [
    {
     "name": "stdout",
     "output_type": "stream",
     "text": [
      "2사원\n",
      "5대리\n",
      "9과장\n",
      "6차장\n"
     ]
    }
   ],
   "source": [
    "for n in nums:\n",
    "    if re.search('\\d', n):     # 숫자가 포함된 직급만 표시\n",
    "        print(n)"
   ]
  },
  {
   "cell_type": "code",
   "execution_count": 23,
   "metadata": {},
   "outputs": [
    {
     "name": "stdout",
     "output_type": "stream",
     "text": [
      "9과장\n",
      "6차장\n",
      "정부장\n"
     ]
    }
   ],
   "source": [
    "for n in nums:\n",
    "    if re.search('장', n):     # '장'이 포함된 직급만 표시\n",
    "        print(n)"
   ]
  },
  {
   "cell_type": "code",
   "execution_count": 24,
   "metadata": {
    "collapsed": true
   },
   "outputs": [],
   "source": [
    "str = ['B', 'BA', 'BAAA', 'BAAAAA', 'CBA', 'CBABA', 'CBABABA']"
   ]
  },
  {
   "cell_type": "code",
   "execution_count": 25,
   "metadata": {},
   "outputs": [
    {
     "name": "stdout",
     "output_type": "stream",
     "text": [
      "BA\n",
      "BAAA\n",
      "BAAAAA\n",
      "CBA\n",
      "CBABA\n",
      "CBABABA\n"
     ]
    }
   ],
   "source": [
    "for s in str:\n",
    "    if re.search('BA', s):\n",
    "        print(s)"
   ]
  },
  {
   "cell_type": "code",
   "execution_count": 26,
   "metadata": {},
   "outputs": [
    {
     "name": "stdout",
     "output_type": "stream",
     "text": [
      "BAAA\n",
      "BAAAAA\n",
      "CBABA\n",
      "CBABABA\n"
     ]
    }
   ],
   "source": [
    "for s in str:\n",
    "    if re.search('BA..', s):     # BA\n",
    "        print(s)"
   ]
  },
  {
   "cell_type": "code",
   "execution_count": 27,
   "metadata": {},
   "outputs": [
    {
     "name": "stdout",
     "output_type": "stream",
     "text": [
      "BAAAAA\n",
      "CBABABA\n"
     ]
    }
   ],
   "source": [
    "for s in str:\n",
    "    if re.search('BA...', s):     # BA\n",
    "        print(s)"
   ]
  },
  {
   "cell_type": "code",
   "execution_count": 28,
   "metadata": {},
   "outputs": [
    {
     "name": "stdout",
     "output_type": "stream",
     "text": [
      "B\n",
      "BA\n",
      "BAAA\n",
      "BAAAAA\n",
      "CBA\n",
      "CBABA\n",
      "CBABABA\n"
     ]
    }
   ],
   "source": [
    "for s in str:\n",
    "    if re.search('BA*', s):     # B 다음에 A를 0회 이상 반복\n",
    "        print(s)"
   ]
  },
  {
   "cell_type": "code",
   "execution_count": 29,
   "metadata": {},
   "outputs": [
    {
     "name": "stdout",
     "output_type": "stream",
     "text": [
      "BA\n",
      "BAAA\n",
      "BAAAAA\n",
      "CBA\n",
      "CBABA\n",
      "CBABABA\n"
     ]
    }
   ],
   "source": [
    "for s in str:\n",
    "    if re.search('BA+', s):     # B 다음에 A를 1회 이상 반복\n",
    "        print(s)"
   ]
  },
  {
   "cell_type": "code",
   "execution_count": 53,
   "metadata": {},
   "outputs": [
    {
     "name": "stdout",
     "output_type": "stream",
     "text": [
      "B\n",
      "BA\n",
      "BAAA\n",
      "BAAAAA\n",
      "CBA\n",
      "CBABA\n",
      "CBABABA\n"
     ]
    }
   ],
   "source": [
    "for s in str:\n",
    "    if re.search('(BAAA)?', s):     # B 다음에 A를 1회 이상 반복\n",
    "        print(s)"
   ]
  },
  {
   "cell_type": "code",
   "execution_count": 30,
   "metadata": {},
   "outputs": [
    {
     "name": "stdout",
     "output_type": "stream",
     "text": [
      "BAAA\n",
      "BAAAAA\n"
     ]
    }
   ],
   "source": [
    "for s in str:\n",
    "    if re.search('BA{2,3}', s):     # B다음 A를 2회 이상 3회 이하 반복\n",
    "        print(s)"
   ]
  },
  {
   "cell_type": "code",
   "execution_count": 31,
   "metadata": {},
   "outputs": [
    {
     "name": "stdout",
     "output_type": "stream",
     "text": [
      "BAAA\n",
      "BAAAAA\n"
     ]
    }
   ],
   "source": [
    "for s in str:\n",
    "    if re.search('BA{3}', s):     # B 다음에 A를 3회 반복\n",
    "        print(s)"
   ]
  },
  {
   "cell_type": "code",
   "execution_count": 32,
   "metadata": {},
   "outputs": [
    {
     "name": "stdout",
     "output_type": "stream",
     "text": [
      "CBABABA\n"
     ]
    }
   ],
   "source": [
    "for s in str:\n",
    "    if re.search('(BA){3}', s):     # BA를 3회 반복\n",
    "        print(s)"
   ]
  },
  {
   "cell_type": "code",
   "execution_count": 46,
   "metadata": {},
   "outputs": [
    {
     "name": "stdout",
     "output_type": "stream",
     "text": [
      "BA\n",
      "BAAA\n",
      "BAAAAA\n",
      "CBA\n",
      "CBABA\n",
      "CBABABA\n"
     ]
    }
   ],
   "source": [
    "for s in str:\n",
    "    if re.search('BA', s):     \n",
    "        print(s)"
   ]
  },
  {
   "cell_type": "code",
   "execution_count": 47,
   "metadata": {},
   "outputs": [
    {
     "name": "stdout",
     "output_type": "stream",
     "text": [
      "BA\n",
      "BAAA\n",
      "BAAAAA\n"
     ]
    }
   ],
   "source": [
    "# 문장 시작 기호 ^ 용법\n",
    "for s in str:\n",
    "    if re.search('^BA', s):     # B로 시작한 다음 A를 3회 반복\n",
    "        print(s)"
   ]
  },
  {
   "cell_type": "code",
   "execution_count": 48,
   "metadata": {},
   "outputs": [
    {
     "name": "stdout",
     "output_type": "stream",
     "text": [
      "BA\n",
      "BAAA\n",
      "BAAAAA\n"
     ]
    }
   ],
   "source": [
    "for s in str:\n",
    "    if re.match('BA', s):     # B로 시작한 다음 A를 3회 반복\n",
    "        print(s)"
   ]
  },
  {
   "cell_type": "code",
   "execution_count": 45,
   "metadata": {},
   "outputs": [
    {
     "name": "stdout",
     "output_type": "stream",
     "text": [
      "BA\n",
      "CBA\n",
      "CBABA\n",
      "CBABABA\n"
     ]
    }
   ],
   "source": [
    "# 문장 끝 기호 $ 용법\n",
    "for s in str:\n",
    "    if re.search('BA$', s):     # B 다음에 A를 3회 반복\n",
    "        print(s)"
   ]
  },
  {
   "cell_type": "code",
   "execution_count": 49,
   "metadata": {},
   "outputs": [
    {
     "name": "stdout",
     "output_type": "stream",
     "text": [
      "BA\n"
     ]
    }
   ],
   "source": [
    "# 문장 끝 기호 $ 용법\n",
    "for s in str:\n",
    "    if re.search('^BA$', s):     # B 다음에 A를 3회 반복\n",
    "        print(s)"
   ]
  },
  {
   "cell_type": "code",
   "execution_count": 35,
   "metadata": {},
   "outputs": [
    {
     "name": "stdout",
     "output_type": "stream",
     "text": [
      "BAAA\n"
     ]
    }
   ],
   "source": [
    "for s in str:\n",
    "    if re.search('BA{2,3}$', s):     # A를 2회 이상 3회 이하 반복\n",
    "        print(s)"
   ]
  },
  {
   "cell_type": "code",
   "execution_count": 36,
   "metadata": {
    "collapsed": true
   },
   "outputs": [],
   "source": [
    "phone = ['010-1111-2222', '01012345678', '010 5555 7777', \n",
    "         '0709999-0000', '010.2222~5555', '02-3774-3774']\n",
    "phone_pattern = re.compile('010[-~= \\.]?[0-9]{4}[-~= \\.]?[0-9]{4}')"
   ]
  },
  {
   "cell_type": "code",
   "execution_count": 37,
   "metadata": {},
   "outputs": [
    {
     "name": "stdout",
     "output_type": "stream",
     "text": [
      "<_sre.SRE_Match object; span=(0, 13), match='010-1111-2222'>\n",
      "<_sre.SRE_Match object; span=(0, 11), match='01012345678'>\n",
      "<_sre.SRE_Match object; span=(0, 13), match='010 5555 7777'>\n",
      "None\n",
      "<_sre.SRE_Match object; span=(0, 13), match='010.2222~5555'>\n",
      "None\n"
     ]
    }
   ],
   "source": [
    "for p in phone:\n",
    "    print(phone_pattern.search(p))"
   ]
  },
  {
   "cell_type": "code",
   "execution_count": 38,
   "metadata": {},
   "outputs": [
    {
     "name": "stdout",
     "output_type": "stream",
     "text": [
      "010-1111-2222\n",
      "01012345678\n",
      "010 5555 7777\n",
      "010.2222~5555\n"
     ]
    }
   ],
   "source": [
    "for p in phone:\n",
    "    if phone_pattern.search(p):\n",
    "        print(p)"
   ]
  },
  {
   "cell_type": "code",
   "execution_count": 39,
   "metadata": {},
   "outputs": [
    {
     "name": "stdout",
     "output_type": "stream",
     "text": [
      "010-1111-2222\n",
      "010-1234-5678\n",
      "010-5555-7777\n",
      "010-2222-5555\n"
     ]
    }
   ],
   "source": [
    "for p in phone:\n",
    "    if phone_pattern.search(p):\n",
    "        p = re.sub('[^0-9]', '', p)     # \\D 도 같은표현\n",
    "        print(p[:3] + '-' + p[3:7] + '-' + p[7:])"
   ]
  },
  {
   "cell_type": "code",
   "execution_count": 73,
   "metadata": {},
   "outputs": [
    {
     "name": "stdout",
     "output_type": "stream",
     "text": [
      "숫자 : ['1', '2']\n",
      "숫자X : ['A', 'B', 'c', 'd', '!', '@', ' ', '가', '나']\n",
      "문자 : ['A', 'B', 'c', 'd', '1', '2', '가', '나']\n",
      "문자X : ['!', '@', ' ']\n",
      "공백 : [' ']\n",
      "공백X : ['A', 'B', 'c', 'd', '1', '2', '!', '@', '가', '나']\n"
     ]
    }
   ],
   "source": [
    "str = 'ABcd12!@ 가나'\n",
    "print('숫자 :', re.findall('\\d', str))\n",
    "print('숫자X :', re.findall('\\D', str))\n",
    "print('문자 :', re.findall('\\w', str))\n",
    "print('문자X :', re.findall('\\W', str))\n",
    "print('공백 :', re.findall('\\s', str))\n",
    "print('공백X :', re.findall('\\S', str))"
   ]
  },
  {
   "cell_type": "code",
   "execution_count": 40,
   "metadata": {
    "scrolled": false
   },
   "outputs": [
    {
     "data": {
      "text/plain": [
       "<_sre.SRE_Match object; span=(1, 3), match='BC'>"
      ]
     },
     "execution_count": 40,
     "metadata": {},
     "output_type": "execute_result"
    }
   ],
   "source": [
    "re.search('BC', 'ABCDE')"
   ]
  },
  {
   "cell_type": "code",
   "execution_count": 41,
   "metadata": {},
   "outputs": [
    {
     "data": {
      "text/plain": [
       "['가', '나', '다', '라']"
      ]
     },
     "execution_count": 41,
     "metadata": {},
     "output_type": "execute_result"
    }
   ],
   "source": [
    "re.findall('[가-라]', '가나다라마바사아자차')"
   ]
  },
  {
   "cell_type": "code",
   "execution_count": 42,
   "metadata": {},
   "outputs": [
    {
     "data": {
      "text/plain": [
       "<_sre.SRE_Match object; span=(1, 2), match='B'>"
      ]
     },
     "execution_count": 42,
     "metadata": {},
     "output_type": "execute_result"
    }
   ],
   "source": [
    "re.search('[B-D]', 'ABCDE')"
   ]
  },
  {
   "cell_type": "code",
   "execution_count": null,
   "metadata": {
    "collapsed": true
   },
   "outputs": [],
   "source": []
  }
 ],
 "metadata": {
  "kernelspec": {
   "display_name": "Python 3",
   "language": "python",
   "name": "python3"
  },
  "language_info": {
   "codemirror_mode": {
    "name": "ipython",
    "version": 3
   },
   "file_extension": ".py",
   "mimetype": "text/x-python",
   "name": "python",
   "nbconvert_exporter": "python",
   "pygments_lexer": "ipython3",
   "version": "3.6.3"
  }
 },
 "nbformat": 4,
 "nbformat_minor": 2
}
